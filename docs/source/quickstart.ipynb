{
 "cells": [
  {
   "cell_type": "markdown",
   "metadata": {},
   "source": [
    "# Quick start\n",
    "\n",
    "Let's quickly illustrate how to work with the `udlai` and what to expect as an outcome.\n",
    "\n",
    "The following notebook illustrates how to call the UDL Feature API using the library and describes each of the steps to follow."
   ]
  },
  {
   "cell_type": "code",
   "execution_count": 1,
   "metadata": {},
   "outputs": [],
   "source": [
    "import udlai"
   ]
  },
  {
   "cell_type": "markdown",
   "metadata": {},
   "source": [
    "Before we can do anything, we need an authentication token. See [udl.ai](https://udl.ai) for more details on how to get one."
   ]
  },
  {
   "cell_type": "code",
   "execution_count": 2,
   "metadata": {},
   "outputs": [],
   "source": [
    "token = '12345mytokenfromudl67890' # this is just an illustration, not a working token"
   ]
  },
  {
   "cell_type": "markdown",
   "metadata": {},
   "source": [
    "## Attributes\n",
    "\n",
    "Let's start with an overview of available attributes. We just need to pass the token."
   ]
  },
  {
   "cell_type": "code",
   "execution_count": 3,
   "metadata": {},
   "outputs": [],
   "source": [
    "attributes = udlai.attributes(token)"
   ]
  },
  {
   "cell_type": "markdown",
   "metadata": {},
   "source": [
    "Now we have a pandas DataFrame containing all attributes we have an access to."
   ]
  },
  {
   "cell_type": "code",
   "execution_count": 14,
   "metadata": {},
   "outputs": [
    {
     "data": {
      "text/html": [
       "<div>\n",
       "<style scoped>\n",
       "    .dataframe tbody tr th:only-of-type {\n",
       "        vertical-align: middle;\n",
       "    }\n",
       "\n",
       "    .dataframe tbody tr th {\n",
       "        vertical-align: top;\n",
       "    }\n",
       "\n",
       "    .dataframe thead th {\n",
       "        text-align: right;\n",
       "    }\n",
       "</style>\n",
       "<table border=\"1\" class=\"dataframe\">\n",
       "  <thead>\n",
       "    <tr style=\"text-align: right;\">\n",
       "      <th></th>\n",
       "      <th>id</th>\n",
       "      <th>name</th>\n",
       "      <th>description</th>\n",
       "      <th>short_description</th>\n",
       "      <th>unit</th>\n",
       "    </tr>\n",
       "  </thead>\n",
       "  <tbody>\n",
       "    <tr>\n",
       "      <th>0</th>\n",
       "      <td>10</td>\n",
       "      <td>box_length</td>\n",
       "      <td>Length of bounding box</td>\n",
       "      <td>None</td>\n",
       "      <td>m</td>\n",
       "    </tr>\n",
       "    <tr>\n",
       "      <th>1</th>\n",
       "      <td>58</td>\n",
       "      <td>Building facade length to street</td>\n",
       "      <td>Length of facade that is perceived from street</td>\n",
       "      <td>None</td>\n",
       "      <td>m</td>\n",
       "    </tr>\n",
       "    <tr>\n",
       "      <th>2</th>\n",
       "      <td>60</td>\n",
       "      <td>Building distance neighbor</td>\n",
       "      <td>Distance to closest neighboring builinding</td>\n",
       "      <td>None</td>\n",
       "      <td>m</td>\n",
       "    </tr>\n",
       "    <tr>\n",
       "      <th>3</th>\n",
       "      <td>61</td>\n",
       "      <td>Building distance across street</td>\n",
       "      <td>Distance to next building in neighboring block...</td>\n",
       "      <td>None</td>\n",
       "      <td>m</td>\n",
       "    </tr>\n",
       "    <tr>\n",
       "      <th>4</th>\n",
       "      <td>62</td>\n",
       "      <td>Perceived courtyards</td>\n",
       "      <td>Number of perceived courtyards: Allows for gab...</td>\n",
       "      <td>None</td>\n",
       "      <td>-</td>\n",
       "    </tr>\n",
       "  </tbody>\n",
       "</table>\n",
       "</div>"
      ],
      "text/plain": [
       "   id                              name  \\\n",
       "0  10                        box_length   \n",
       "1  58  Building facade length to street   \n",
       "2  60        Building distance neighbor   \n",
       "3  61   Building distance across street   \n",
       "4  62              Perceived courtyards   \n",
       "\n",
       "                                         description short_description unit  \n",
       "0                             Length of bounding box              None    m  \n",
       "1     Length of facade that is perceived from street              None    m  \n",
       "2         Distance to closest neighboring builinding              None    m  \n",
       "3  Distance to next building in neighboring block...              None    m  \n",
       "4  Number of perceived courtyards: Allows for gab...              None    -  "
      ]
     },
     "execution_count": 14,
     "metadata": {},
     "output_type": "execute_result"
    }
   ],
   "source": [
    "attributes.iloc[:5, :5]"
   ]
  },
  {
   "cell_type": "markdown",
   "metadata": {},
   "source": [
    "We can also query detials of a single attribute, if we know its ID."
   ]
  },
  {
   "cell_type": "code",
   "execution_count": 5,
   "metadata": {},
   "outputs": [],
   "source": [
    "attribute_22 = udlai.attribute_detail(token, attribute_id=22)"
   ]
  },
  {
   "cell_type": "markdown",
   "metadata": {},
   "source": [
    "The result is a pandas Series."
   ]
  },
  {
   "cell_type": "code",
   "execution_count": 10,
   "metadata": {},
   "outputs": [
    {
     "data": {
      "text/plain": [
       "id                                                                     22\n",
       "name                                                          obj_compact\n",
       "description             Compactness of object: C=obj_peri²/(4*box_area*π)\n",
       "short_description                                                    None\n",
       "unit                                                                    -\n",
       "tags.id                                                                 4\n",
       "tags.name                                                      Morphology\n",
       "main_tag.id                                                             4\n",
       "main_tag.name                                                  Morphology\n",
       "data_version                                                         None\n",
       "data_last_update                                                     None\n",
       "data_processor                                                        UDL\n",
       "source_provider                                            Swiss Topo TLM\n",
       "source_provider_link    https://www.swisstopo.admin.ch/de/wissen-fakte...\n",
       "coverage_general                                              Switzerland\n",
       "epsg_code                                                            2056\n",
       "min_value                                                        0.960614\n",
       "max_value                                                       24.141694\n",
       "standard_deviation                                               0.893447\n",
       "mean                                                             1.647733\n",
       "year                                                                 2013\n",
       "value_formatter                                                      None\n",
       "dtype: object"
      ]
     },
     "execution_count": 10,
     "metadata": {},
     "output_type": "execute_result"
    }
   ],
   "source": [
    "attribute_22"
   ]
  },
  {
   "cell_type": "markdown",
   "metadata": {},
   "source": [
    "## Features\n",
    "\n",
    "So far, we have not accessed any actual values, just the metadata. But given spatial coordinates (latitude and longitude), we can query UDL.AI platform and retrieve the values of selected attributes for any place in the database. We can query a single attribute or multiple at once. The same applies to coordinates.\n",
    "\n",
    "Single point and a sigle attribute:"
   ]
  },
  {
   "cell_type": "code",
   "execution_count": 6,
   "metadata": {},
   "outputs": [
    {
     "data": {
      "text/plain": [
       "22    2.2064113123322\n",
       "Name: (47.37, 8.54), dtype: object"
      ]
     },
     "execution_count": 6,
     "metadata": {},
     "output_type": "execute_result"
    }
   ],
   "source": [
    "single_point_single_attr = udlai.features(token, latitude=47.37, longitude=8.54, attribute_id=22)\n",
    "single_point_single_attr"
   ]
  },
  {
   "cell_type": "markdown",
   "metadata": {},
   "source": [
    " Single point and multiple attributes, indexed by name instead on an attribute ID:"
   ]
  },
  {
   "cell_type": "code",
   "execution_count": 11,
   "metadata": {},
   "outputs": [
    {
     "data": {
      "text/plain": [
       "box_length                 104\n",
       "box_perim                  335\n",
       "obj_compact    2.2064113123322\n",
       "Name: (47.37, 8.54), dtype: object"
      ]
     },
     "execution_count": 11,
     "metadata": {},
     "output_type": "execute_result"
    }
   ],
   "source": [
    "single_point_name = udlai.features(token, latitude=47.37, longitude=8.54, attribute_id=[10, 11, 22], index_by=\"name\")\n",
    "single_point_name"
   ]
  },
  {
   "cell_type": "markdown",
   "metadata": {},
   "source": [
    "Multiple points and a single attribute (the last point is not in the existing database):"
   ]
  },
  {
   "cell_type": "code",
   "execution_count": 8,
   "metadata": {},
   "outputs": [
    {
     "name": "stderr",
     "output_type": "stream",
     "text": [
      "/Users/martin/Git/udlai/udlai/features.py:334: UserWarning: Some of the locations are not within the udl.ai database. Have you passed correct coordinates?\n",
      "  warnings.warn(\n"
     ]
    },
    {
     "data": {
      "text/html": [
       "<div>\n",
       "<style scoped>\n",
       "    .dataframe tbody tr th:only-of-type {\n",
       "        vertical-align: middle;\n",
       "    }\n",
       "\n",
       "    .dataframe tbody tr th {\n",
       "        vertical-align: top;\n",
       "    }\n",
       "\n",
       "    .dataframe thead th {\n",
       "        text-align: right;\n",
       "    }\n",
       "</style>\n",
       "<table border=\"1\" class=\"dataframe\">\n",
       "  <thead>\n",
       "    <tr style=\"text-align: right;\">\n",
       "      <th></th>\n",
       "      <th>latitude</th>\n",
       "      <th>longitude</th>\n",
       "      <th>10</th>\n",
       "    </tr>\n",
       "  </thead>\n",
       "  <tbody>\n",
       "    <tr>\n",
       "      <th>0</th>\n",
       "      <td>47.376927</td>\n",
       "      <td>8.549738</td>\n",
       "      <td>294</td>\n",
       "    </tr>\n",
       "    <tr>\n",
       "      <th>1</th>\n",
       "      <td>47.376927</td>\n",
       "      <td>8.541798</td>\n",
       "      <td>44</td>\n",
       "    </tr>\n",
       "    <tr>\n",
       "      <th>2</th>\n",
       "      <td>48.376927</td>\n",
       "      <td>8.941798</td>\n",
       "      <td>None</td>\n",
       "    </tr>\n",
       "  </tbody>\n",
       "</table>\n",
       "</div>"
      ],
      "text/plain": [
       "    latitude  longitude    10\n",
       "0  47.376927   8.549738   294\n",
       "1  47.376927   8.541798    44\n",
       "2  48.376927   8.941798  None"
      ]
     },
     "execution_count": 8,
     "metadata": {},
     "output_type": "execute_result"
    }
   ],
   "source": [
    "lats = [47.3769267, 47.3769267, 48.3769267]\n",
    "lons = [8.5497381, 8.5417981, 8.9417981]\n",
    "multiple_pts = udlai.features(token, latitude=lats, longitude=lons, attribute_id=10)\n",
    "multiple_pts"
   ]
  },
  {
   "cell_type": "markdown",
   "metadata": {},
   "source": [
    "Multiple points and a multiple attributes, again indexed by name:"
   ]
  },
  {
   "cell_type": "code",
   "execution_count": 15,
   "metadata": {},
   "outputs": [
    {
     "name": "stderr",
     "output_type": "stream",
     "text": [
      "/Users/martin/Git/udlai/udlai/features.py:334: UserWarning: Some of the locations are not within the udl.ai database. Have you passed correct coordinates?\n",
      "  warnings.warn(\n"
     ]
    },
    {
     "data": {
      "text/html": [
       "<div>\n",
       "<style scoped>\n",
       "    .dataframe tbody tr th:only-of-type {\n",
       "        vertical-align: middle;\n",
       "    }\n",
       "\n",
       "    .dataframe tbody tr th {\n",
       "        vertical-align: top;\n",
       "    }\n",
       "\n",
       "    .dataframe thead th {\n",
       "        text-align: right;\n",
       "    }\n",
       "</style>\n",
       "<table border=\"1\" class=\"dataframe\">\n",
       "  <thead>\n",
       "    <tr style=\"text-align: right;\">\n",
       "      <th></th>\n",
       "      <th>latitude</th>\n",
       "      <th>longitude</th>\n",
       "      <th>box_perim</th>\n",
       "      <th>box_width</th>\n",
       "      <th>box_width2length</th>\n",
       "      <th>circ_area</th>\n",
       "      <th>circ_perim</th>\n",
       "    </tr>\n",
       "  </thead>\n",
       "  <tbody>\n",
       "    <tr>\n",
       "      <th>0</th>\n",
       "      <td>47.376927</td>\n",
       "      <td>8.549738</td>\n",
       "      <td>1106</td>\n",
       "      <td>259</td>\n",
       "      <td>0.880952380952381</td>\n",
       "      <td>86215</td>\n",
       "      <td>1041</td>\n",
       "    </tr>\n",
       "    <tr>\n",
       "      <th>1</th>\n",
       "      <td>47.376927</td>\n",
       "      <td>8.541798</td>\n",
       "      <td>259</td>\n",
       "      <td>85</td>\n",
       "      <td>0.517647058823529</td>\n",
       "      <td>6860</td>\n",
       "      <td>294</td>\n",
       "    </tr>\n",
       "    <tr>\n",
       "      <th>2</th>\n",
       "      <td>48.376927</td>\n",
       "      <td>8.941798</td>\n",
       "      <td>None</td>\n",
       "      <td>None</td>\n",
       "      <td>None</td>\n",
       "      <td>None</td>\n",
       "      <td>None</td>\n",
       "    </tr>\n",
       "  </tbody>\n",
       "</table>\n",
       "</div>"
      ],
      "text/plain": [
       "    latitude  longitude box_perim box_width   box_width2length circ_area  \\\n",
       "0  47.376927   8.549738      1106       259  0.880952380952381     86215   \n",
       "1  47.376927   8.541798       259        85  0.517647058823529      6860   \n",
       "2  48.376927   8.941798      None      None               None      None   \n",
       "\n",
       "  circ_perim  \n",
       "0       1041  \n",
       "1        294  \n",
       "2       None  "
      ]
     },
     "execution_count": 15,
     "metadata": {},
     "output_type": "execute_result"
    }
   ],
   "source": [
    "lats = [47.3769267, 47.3769267, 48.3769267]\n",
    "lons = [8.5497381, 8.5417981, 8.9417981]\n",
    "ids = [11, 12, 13, 14, 15]\n",
    "multiple_data = udlai.features(token, latitude=lats, longitude=lons, attribute_id=ids, index_by=\"name\")\n",
    "multiple_data"
   ]
  },
  {
   "cell_type": "markdown",
   "metadata": {},
   "source": [
    "You can query as many coordinates and as many attributes as your token allows."
   ]
  }
 ],
 "metadata": {
  "kernelspec": {
   "display_name": "Python 3.9.13 ('geo_dev')",
   "language": "python",
   "name": "python3"
  },
  "language_info": {
   "codemirror_mode": {
    "name": "ipython",
    "version": 3
   },
   "file_extension": ".py",
   "mimetype": "text/x-python",
   "name": "python",
   "nbconvert_exporter": "python",
   "pygments_lexer": "ipython3",
   "version": "3.9.13"
  },
  "orig_nbformat": 4,
  "vscode": {
   "interpreter": {
    "hash": "8d1b2c984ad473d756980598d6fae8279815dc9c89a9d51a262cfb04eba7ee8f"
   }
  }
 },
 "nbformat": 4,
 "nbformat_minor": 2
}
